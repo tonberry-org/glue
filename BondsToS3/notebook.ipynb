{
 "cells": [
  {
   "cell_type": "code",
   "execution_count": 1,
   "id": "4ed4fc52-4f05-4002-a1ae-627e0a3ae2cb",
   "metadata": {},
   "outputs": [],
   "source": [
    "import sys\n",
    "from typing import Callable, Dict, Iterator, Tuple\n",
    "from awsglue.transforms import *\n",
    "from awsglue.utils import getResolvedOptions\n",
    "from pyspark.context import SparkContext\n",
    "from awsglue.context import GlueContext\n",
    "from awsglue.job import Job\n",
    "from awsglue.dynamicframe import DynamicFrame\n",
    "import boto3\n",
    "from pyspark.sql.types import Row\n",
    "from pyspark.sql.functions import concat_ws, col, coalesce, to_date, split, year, dayofmonth, month\n"
   ]
  },
  {
   "cell_type": "code",
   "execution_count": 2,
   "id": "1427fb6d-deb7-4977-b73b-51f27c6bbaa0",
   "metadata": {},
   "outputs": [],
   "source": [
    "class DDBDelete:\n",
    "    def __init__(self, table: str, keyGen: Callable[[Row], Dict[str, str]]) -> None:\n",
    "        self.table = table\n",
    "        self.keyGen = keyGen\n",
    "        \n",
    "    def process(self, df: DynamicFrame) -> None:\n",
    "        df.toDF().foreachPartition(self.delete)\n",
    "        \n",
    "    def delete(self, rows: Iterator[Row]) -> None:\n",
    "        ddb_underlying_table = boto3.resource(\"dynamodb\").Table(self.table)\n",
    "        with ddb_underlying_table.batch_writer() as batch:\n",
    "            for row in rows:\n",
    "                batch.delete_item(Key=self.keyGen(row))"
   ]
  },
  {
   "cell_type": "code",
   "execution_count": 3,
   "id": "0eff3971-56c8-4f67-af22-4333cd4e0be8",
   "metadata": {},
   "outputs": [],
   "source": [
    "def init() -> Tuple[GlueContext, Job]:\n",
    "    params = []\n",
    "    if '--JOB_NAME' in sys.argv:\n",
    "        params.append('JOB_NAME')\n",
    "    args = getResolvedOptions(sys.argv, params)\n",
    "\n",
    "    context = GlueContext(SparkContext.getOrCreate())\n",
    "    job = Job(context)\n",
    "\n",
    "    if 'JOB_NAME' in args:\n",
    "        jobname = args['JOB_NAME']\n",
    "    else:\n",
    "        jobname = \"test\"\n",
    "    job.init(jobname, args)\n",
    "    return (context, job)\n",
    "\n",
    "context, job = init()"
   ]
  },
  {
   "cell_type": "code",
   "execution_count": 4,
   "id": "c2e787b1-666b-4cfe-a3d6-fc1e05567b68",
   "metadata": {},
   "outputs": [],
   "source": [
    "bonds_dynamodb_node: DynamicFrame = context.create_dynamic_frame.from_catalog(\n",
    "    database=\"bonds\",\n",
    "    table_name=\"bonds\",\n",
    "    transformation_ctx=\"bonds_dynamodb_node\",\n",
    ")"
   ]
  },
  {
   "cell_type": "code",
   "execution_count": 5,
   "id": "0aaedead-8643-429c-9e1d-3ad36b9640e3",
   "metadata": {},
   "outputs": [
    {
     "name": "stdout",
     "output_type": "stream",
     "text": [
      "root\n",
      "|-- open: choice\n",
      "|    |-- double\n",
      "|    |-- long\n",
      "|-- low: choice\n",
      "|    |-- double\n",
      "|    |-- long\n",
      "|-- adjusted_close: choice\n",
      "|    |-- double\n",
      "|    |-- long\n",
      "|-- date: string\n",
      "|-- bond: string\n",
      "|-- close: choice\n",
      "|    |-- double\n",
      "|    |-- long\n",
      "|-- volume: long\n",
      "|-- high: choice\n",
      "|    |-- double\n",
      "|    |-- long\n",
      "\n"
     ]
    }
   ],
   "source": [
    "bonds_dynamodb_node.printSchema()"
   ]
  },
  {
   "cell_type": "code",
   "execution_count": 6,
   "id": "6799104c-c677-4c8f-8326-1871a65b75df",
   "metadata": {},
   "outputs": [],
   "source": [
    "resolved_frame = bonds_dynamodb_node.resolveChoice(specs=[\n",
    "    (\"open\", \"cast:double\"),\n",
    "    (\"low\", \"cast:double\"),\n",
    "    (\"adjusted_close\", \"cast:double\"),\n",
    "    (\"close\", \"cast:double\"),\n",
    "    (\"high\", \"cast:double\")\n",
    "])"
   ]
  },
  {
   "cell_type": "code",
   "execution_count": 7,
   "id": "47f9a90b-0a0d-4638-a82d-158af3a339d0",
   "metadata": {},
   "outputs": [
    {
     "name": "stdout",
     "output_type": "stream",
     "text": [
      "root\n",
      "|-- open: double\n",
      "|-- low: double\n",
      "|-- adjusted_close: double\n",
      "|-- date: string\n",
      "|-- bond: string\n",
      "|-- close: double\n",
      "|-- volume: long\n",
      "|-- high: double\n",
      "\n"
     ]
    }
   ],
   "source": [
    "resolved_frame.printSchema()"
   ]
  },
  {
   "cell_type": "code",
   "execution_count": 8,
   "id": "fb515d32-7db3-4a7a-9bd9-65d8a188a8a6",
   "metadata": {},
   "outputs": [],
   "source": [
    "df = resolved_frame.toDF()\n",
    "add_year_df = df.withColumn('year', year(df.date))\n",
    "add_year_frame = DynamicFrame.fromDF(add_year_df, context, 'add_year')"
   ]
  },
  {
   "cell_type": "code",
   "execution_count": 9,
   "id": "c09fa274-8b4a-4a2e-bd56-5fa7419d33d5",
   "metadata": {},
   "outputs": [
    {
     "name": "stdout",
     "output_type": "stream",
     "text": [
      "root\n",
      "|-- open: double\n",
      "|-- low: double\n",
      "|-- adjusted_close: double\n",
      "|-- date: string\n",
      "|-- bond: string\n",
      "|-- close: double\n",
      "|-- volume: long\n",
      "|-- high: double\n",
      "|-- year: int\n",
      "\n"
     ]
    }
   ],
   "source": [
    "add_year_frame.printSchema()"
   ]
  },
  {
   "cell_type": "code",
   "execution_count": 10,
   "id": "eb43793e-02e3-4cda-9a70-286086f5155b",
   "metadata": {},
   "outputs": [],
   "source": [
    "partitioned_dataframe: DynamicFrame = add_year_frame.toDF().repartition(1)"
   ]
  },
  {
   "cell_type": "code",
   "execution_count": 11,
   "id": "7ef559f9",
   "metadata": {},
   "outputs": [],
   "source": [
    "partitioned_dynamicframe: DynamicFrame = DynamicFrame.fromDF(partitioned_dataframe, context, \"partitioned_df\")"
   ]
  },
  {
   "cell_type": "code",
   "execution_count": 12,
   "id": "65644547-62b0-456f-a845-f6d244b55e74",
   "metadata": {},
   "outputs": [
    {
     "data": {
      "text/plain": [
       "<awsglue.dynamicframe.DynamicFrame at 0xffff79f85190>"
      ]
     },
     "execution_count": 12,
     "metadata": {},
     "output_type": "execute_result"
    }
   ],
   "source": [
    "context.write_dynamic_frame.from_options(\n",
    "    frame=partitioned_dynamicframe,\n",
    "    connection_type=\"s3\",\n",
    "    format=\"csv\",\n",
    "    connection_options={\n",
    "        \"path\": \"s3://tonberry-bonds-staging\",\n",
    "        \"partitionKeys\": [\"bond\", \"year\"],\n",
    "\n",
    "    },\n",
    "    transformation_ctx=\"S3bucket_node3\",\n",
    ")"
   ]
  },
  {
   "cell_type": "code",
   "execution_count": 13,
   "id": "504579d4",
   "metadata": {},
   "outputs": [],
   "source": [
    "job.commit()\n"
   ]
  },
  {
   "cell_type": "code",
   "execution_count": null,
   "id": "e625e739-6be4-44fd-9279-6dffb68f49e5",
   "metadata": {},
   "outputs": [],
   "source": []
  }
 ],
 "metadata": {
  "kernelspec": {
   "display_name": "Python 3",
   "language": "python",
   "name": "python3"
  },
  "language_info": {
   "codemirror_mode": {
    "name": "ipython",
    "version": 3
   },
   "file_extension": ".py",
   "mimetype": "text/x-python",
   "name": "python",
   "nbconvert_exporter": "python",
   "pygments_lexer": "ipython3",
   "version": "3.10.1 (main, Jan 16 2022, 08:52:11) [Clang 13.0.0 (clang-1300.0.29.30)]"
  },
  "vscode": {
   "interpreter": {
    "hash": "51f3f81542626ab5c763b7413119804b04c5c6d91b36fceac224de8d2dae24a0"
   }
  }
 },
 "nbformat": 4,
 "nbformat_minor": 5
}
