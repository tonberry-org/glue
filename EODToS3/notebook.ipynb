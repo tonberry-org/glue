{
 "cells": [
  {
   "cell_type": "code",
   "execution_count": 23,
   "id": "4ed4fc52-4f05-4002-a1ae-627e0a3ae2cb",
   "metadata": {},
   "outputs": [],
   "source": [
    "import sys\n",
    "from typing import Callable, Dict, Iterator, Tuple\n",
    "from awsglue.transforms import *\n",
    "from awsglue.utils import getResolvedOptions\n",
    "from pyspark.context import SparkContext\n",
    "from awsglue.context import GlueContext\n",
    "from awsglue.job import Job\n",
    "from awsglue.dynamicframe import DynamicFrame\n",
    "import boto3\n",
    "from pyspark.sql.types import Row\n",
    "from pyspark.sql.functions import concat_ws, col, coalesce, to_date, split, to_date, year\n",
    "\n"
   ]
  },
  {
   "cell_type": "code",
   "execution_count": 24,
   "id": "1427fb6d-deb7-4977-b73b-51f27c6bbaa0",
   "metadata": {},
   "outputs": [],
   "source": [
    "class DDBDelete:\n",
    "    def __init__(self, table: str, keyGen: Callable[[Row], Dict[str, str]]) -> None:\n",
    "        self.table = table\n",
    "        self.keyGen = keyGen\n",
    "        \n",
    "    def process(self, df: DynamicFrame) -> None:\n",
    "        df.toDF().foreachPartition(self.delete)\n",
    "        \n",
    "    def delete(self, rows: Iterator[Row]) -> None:\n",
    "        ddb_underlying_table = boto3.resource(\"dynamodb\").Table(self.table)\n",
    "        with ddb_underlying_table.batch_writer() as batch:\n",
    "            for row in rows:\n",
    "                batch.delete_item(Key=self.keyGen(row))"
   ]
  },
  {
   "cell_type": "code",
   "execution_count": 25,
   "id": "0eff3971-56c8-4f67-af22-4333cd4e0be8",
   "metadata": {},
   "outputs": [],
   "source": [
    "def init() -> Tuple[GlueContext, Job]:\n",
    "    params = []\n",
    "    if '--JOB_NAME' in sys.argv:\n",
    "        params.append('JOB_NAME')\n",
    "    args = getResolvedOptions(sys.argv, params)\n",
    "\n",
    "    context = GlueContext(SparkContext.getOrCreate())\n",
    "    job = Job(context)\n",
    "\n",
    "    if 'JOB_NAME' in args:\n",
    "        jobname = args['JOB_NAME']\n",
    "    else:\n",
    "        jobname = \"test\"\n",
    "    job.init(jobname, args)\n",
    "    return (context, job)\n",
    "\n",
    "context, job = init()"
   ]
  },
  {
   "cell_type": "code",
   "execution_count": 26,
   "id": "c2e787b1-666b-4cfe-a3d6-fc1e05567b68",
   "metadata": {},
   "outputs": [],
   "source": [
    "eod_prices_dynamodb_node: DynamicFrame = context.create_dynamic_frame.from_catalog(\n",
    "    database=\"eod_prices\",\n",
    "    table_name=\"eod_prices\",\n",
    "    transformation_ctx=\"eod_prices_dynamodb_node\",\n",
    ")"
   ]
  },
  {
   "cell_type": "code",
   "execution_count": 27,
   "id": "b121f4cc-35df-4651-aca3-7433d2626d32",
   "metadata": {},
   "outputs": [],
   "source": [
    "resolved_frame = eod_prices_dynamodb_node.resolveChoice(specs=[\n",
    "    (\"open\", \"cast:double\"),\n",
    "    (\"low\", \"cast:double\"),\n",
    "    (\"adjusted_close\", \"cast:double\"),\n",
    "    (\"close\", \"cast:double\"),\n",
    "    (\"high\", \"cast:double\")\n",
    "])"
   ]
  },
  {
   "cell_type": "code",
   "execution_count": 28,
   "id": "cb222925-813d-432f-8130-f30f028a6d04",
   "metadata": {},
   "outputs": [],
   "source": [
    "df = resolved_frame.toDF().withColumn('date', to_date(col('date')))"
   ]
  },
  {
   "cell_type": "code",
   "execution_count": 29,
   "id": "6f2e1eae-42b6-49bb-8bf8-d32ffe562c8b",
   "metadata": {},
   "outputs": [],
   "source": [
    "df = df.withColumn('year', year(col('date')))"
   ]
  },
  {
   "cell_type": "code",
   "execution_count": 30,
   "id": "09ab0bcf-104b-4eeb-a5a6-0b6a29213c80",
   "metadata": {},
   "outputs": [],
   "source": [
    "transform_node = DynamicFrame.fromDF(df, context, 'transformed')"
   ]
  },
  {
   "cell_type": "code",
   "execution_count": 31,
   "id": "eb43793e-02e3-4cda-9a70-286086f5155b",
   "metadata": {},
   "outputs": [],
   "source": [
    "partitioned_dataframe: DynamicFrame = transform_node.toDF().repartition(1)"
   ]
  },
  {
   "cell_type": "code",
   "execution_count": 32,
   "id": "7ef559f9",
   "metadata": {},
   "outputs": [],
   "source": [
    "partitioned_dynamicframe: DynamicFrame = DynamicFrame.fromDF(partitioned_dataframe, context, \"partitioned_df\")"
   ]
  },
  {
   "cell_type": "code",
   "execution_count": 33,
   "id": "65644547-62b0-456f-a845-f6d244b55e74",
   "metadata": {},
   "outputs": [
    {
     "data": {
      "text/plain": [
       "<awsglue.dynamicframe.DynamicFrame at 0xffff61219250>"
      ]
     },
     "execution_count": 33,
     "metadata": {},
     "output_type": "execute_result"
    }
   ],
   "source": [
    "context.write_dynamic_frame.from_options(\n",
    "    frame=partitioned_dynamicframe,\n",
    "    connection_type=\"s3\",\n",
    "    format=\"parquet\",\n",
    "    connection_options={\n",
    "        \"path\": \"s3://tonberry-eod-prices-staging\",\n",
    "        \"partitionKeys\": [\"symbol\",\"year\"],\n",
    "        \"compression\": \"gzip\"\n",
    "    },\n",
    "    transformation_ctx=\"S3bucket_node3\",\n",
    "    format_options={\n",
    "        \"useGlueParquetWriter\": True,\n",
    "    },\n",
    ")"
   ]
  },
  {
   "cell_type": "code",
   "execution_count": 34,
   "id": "504579d4",
   "metadata": {},
   "outputs": [],
   "source": [
    "job.commit()"
   ]
  },
  {
   "cell_type": "code",
   "execution_count": null,
   "id": "e625e739-6be4-44fd-9279-6dffb68f49e5",
   "metadata": {},
   "outputs": [],
   "source": []
  }
 ],
 "metadata": {
  "kernelspec": {
   "display_name": "Python 3",
   "language": "python",
   "name": "python3"
  },
  "language_info": {
   "codemirror_mode": {
    "name": "ipython",
    "version": 3
   },
   "file_extension": ".py",
   "mimetype": "text/x-python",
   "name": "python",
   "nbconvert_exporter": "python",
   "pygments_lexer": "ipython3",
   "version": "3.10.1 (main, Jan 16 2022, 08:52:11) [Clang 13.0.0 (clang-1300.0.29.30)]"
  },
  "vscode": {
   "interpreter": {
    "hash": "51f3f81542626ab5c763b7413119804b04c5c6d91b36fceac224de8d2dae24a0"
   }
  }
 },
 "nbformat": 4,
 "nbformat_minor": 5
}
