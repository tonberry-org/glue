{
 "cells": [
  {
   "cell_type": "code",
   "execution_count": 11,
   "id": "4ed4fc52-4f05-4002-a1ae-627e0a3ae2cb",
   "metadata": {},
   "outputs": [],
   "source": [
    "import sys\n",
    "from typing import Tuple\n",
    "from awsglue.transforms import *\n",
    "from awsglue.utils import getResolvedOptions\n",
    "from pyspark.context import SparkContext\n",
    "from awsglue.context import GlueContext\n",
    "from awsglue.job import Job\n",
    "from awsglue.dynamicframe import DynamicFrame\n",
    "from pyspark.sql.functions import col, to_date, to_date, year\n"
   ]
  },
  {
   "cell_type": "code",
   "execution_count": 13,
   "id": "0eff3971-56c8-4f67-af22-4333cd4e0be8",
   "metadata": {},
   "outputs": [],
   "source": [
    "def init() -> Tuple[GlueContext, Job]:\n",
    "    params = []\n",
    "    if \"--JOB_NAME\" in sys.argv:\n",
    "        params.append(\"JOB_NAME\")\n",
    "    args = getResolvedOptions(sys.argv, params)\n",
    "\n",
    "    context = GlueContext(SparkContext.getOrCreate())\n",
    "    job = Job(context)\n",
    "\n",
    "    if \"JOB_NAME\" in args:\n",
    "        jobname = args[\"JOB_NAME\"]\n",
    "    else:\n",
    "        jobname = \"test\"\n",
    "    job.init(jobname, args)\n",
    "    return (context, job)\n",
    "\n",
    "\n",
    "context, job = init()"
   ]
  },
  {
   "cell_type": "code",
   "execution_count": 14,
   "id": "c2e787b1-666b-4cfe-a3d6-fc1e05567b68",
   "metadata": {},
   "outputs": [],
   "source": [
    "\n",
    "eod_prices_s3_frame = context.create_dynamic_frame.from_catalog(\n",
    "    database=\"eod_prices\",\n",
    "    table_name=\"tonberry_eod_prices_raw\",\n",
    "    transformation_ctx=\"eod_prices_s3_frame\","
   ]
  },
  {
   "cell_type": "code",
   "execution_count": 15,
   "id": "fbcf7e47-3d14-4be8-af7f-2e6c52c3a517",
   "metadata": {},
   "outputs": [
    {
     "name": "stdout",
     "output_type": "stream",
     "text": [
      "root\n",
      "|-- date: string\n",
      "|-- open: choice\n",
      "|    |-- double\n",
      "|    |-- int\n",
      "|-- high: choice\n",
      "|    |-- double\n",
      "|    |-- int\n",
      "|-- low: choice\n",
      "|    |-- double\n",
      "|    |-- int\n",
      "|-- close: choice\n",
      "|    |-- double\n",
      "|    |-- int\n",
      "|-- adjusted_close: choice\n",
      "|    |-- double\n",
      "|    |-- int\n",
      "|-- volume: choice\n",
      "|    |-- int\n",
      "|    |-- long\n",
      "\n"
     ]
    }
   ],
   "source": [
    "\n",
    "resolved_frame = eod_prices_s3_frame.resolveChoice(specs=[\n",
    "    (\"open\", \"cast:double\"),\n",
    "    (\"high\", \"cast:double\"),\n",
    "    (\"low\", \"cast:double\"),\n",
    "    (\"close\", \"cast:double\"),\n",
    "    (\"adjusted_close\", \"cast:double\"),\n",
    "    (\"volume\", \"cast:int\"),\n",
    "])"
   ]
  },
  {
   "cell_type": "code",
   "execution_count": 16,
   "id": "b121f4cc-35df-4651-aca3-7433d2626d32",
   "metadata": {},
   "outputs": [],
   "source": [
    "df = resolved_frame.toDF().withColumn('date', to_date(col('date'))).withColumn('year', year(col('date')))\n",
    "to_date_frame =  DynamicFrame.fromDF(df, context, 'transformed')\n"
   ]
  },
  {
   "cell_type": "code",
   "execution_count": 17,
   "id": "9a1ff6e0-47f6-47c3-a0a5-a91bf83ffbfb",
   "metadata": {},
   "outputs": [],
   "source": [
    "partitioned_dataframe: DynamicFrame = to_date_frame.toDF().repartition(10)\n",
    "partitioned_dynamicframe: DynamicFrame = DynamicFrame.fromDF(\n",
    "    partitioned_dataframe, context, \"partitioned_df\"\n",
    ")"
   ]
  },
  {
   "cell_type": "code",
   "execution_count": 18,
   "id": "cb222925-813d-432f-8130-f30f028a6d04",
   "metadata": {},
   "outputs": [
    {
     "name": "stdout",
     "output_type": "stream",
     "text": [
      "root\n",
      "|-- date: date\n",
      "|-- open: double\n",
      "|-- high: double\n",
      "|-- low: double\n",
      "|-- close: double\n",
      "|-- adjusted_close: double\n",
      "|-- volume: int\n",
      "\n"
     ]
    }
   ],
   "source": [
    "context.write_dynamic_frame.from_options(\n",
    "    frame=partitioned_dynamicframe,\n",
    "    connection_type=\"s3\",\n",
    "    format=\"parquet\",\n",
    "    connection_options={\n",
    "        \"path\": \"s3://tonberry-eod-prices\",\n",
    "        \"partitionKeys\": [\"year\"],\n",
    "        \"compression\": \"gzip\",\n",
    "    },\n",
    "    transformation_ctx=\"S3bucket_node3\",\n",
    ")"
   ]
  },
  {
   "cell_type": "code",
   "execution_count": 31,
   "id": "eb43793e-02e3-4cda-9a70-286086f5155b",
   "metadata": {},
   "outputs": [],
   "source": [
    "\n",
    "\n",
    "partitioned_dataframe: DynamicFrame = to_date_frame.toDF().repartition(10)\n",
    "partitioned_dynamicframe: DynamicFrame = DynamicFrame.fromDF(\n",
    "    partitioned_dataframe, context, \"partitioned_df\"\n",
    ")"
   ]
  },
  {
   "cell_type": "code",
   "execution_count": 33,
   "id": "65644547-62b0-456f-a845-f6d244b55e74",
   "metadata": {},
   "outputs": [
    {
     "data": {
      "text/plain": [
       "<awsglue.dynamicframe.DynamicFrame at 0xffff61219250>"
      ]
     },
     "execution_count": 33,
     "metadata": {},
     "output_type": "execute_result"
    }
   ],
   "source": [
    "context.write_dynamic_frame.from_options(\n",
    "    frame=partitioned_dynamicframe,\n",
    "    connection_type=\"s3\",\n",
    "    format=\"parquet\",\n",
    "    connection_options={\n",
    "        \"path\": \"s3://tonberry-eod-prices\",\n",
    "        \"partitionKeys\": [\"year\"],\n",
    "        \"compression\": \"gzip\"\n",
    "    },\n",
    "    transformation_ctx=\"S3bucket_node3\"\n",
    ")"
   ]
  },
  {
   "cell_type": "code",
   "execution_count": 34,
   "id": "504579d4",
   "metadata": {},
   "outputs": [],
   "source": [
    "job.commit()"
   ]
  },
  {
   "cell_type": "code",
   "execution_count": null,
   "id": "e625e739-6be4-44fd-9279-6dffb68f49e5",
   "metadata": {},
   "outputs": [],
   "source": []
  }
 ],
 "metadata": {
  "kernelspec": {
   "display_name": "Python 3",
   "language": "python",
   "name": "python3"
  },
  "language_info": {
   "codemirror_mode": {
    "name": "ipython",
    "version": 3
   },
   "file_extension": ".py",
   "mimetype": "text/x-python",
   "name": "python",
   "nbconvert_exporter": "python",
   "pygments_lexer": "ipython3",
   "version": "3.7.15"
  },
  "vscode": {
   "interpreter": {
    "hash": "51f3f81542626ab5c763b7413119804b04c5c6d91b36fceac224de8d2dae24a0"
   }
  }
 },
 "nbformat": 4,
 "nbformat_minor": 5
}
