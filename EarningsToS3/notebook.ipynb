{
 "cells": [
  {
   "cell_type": "code",
   "execution_count": 10,
   "id": "4ed4fc52-4f05-4002-a1ae-627e0a3ae2cb",
   "metadata": {},
   "outputs": [],
   "source": [
    "import sys\n",
    "from typing import Callable, Dict, Iterator, Tuple\n",
    "from awsglue.transforms import *\n",
    "from awsglue.utils import getResolvedOptions\n",
    "from pyspark.context import SparkContext\n",
    "from awsglue.context import GlueContext\n",
    "from awsglue.job import Job\n",
    "from awsglue.dynamicframe import DynamicFrame\n",
    "import boto3\n",
    "from pyspark.sql.types import Row\n",
    "from pyspark.sql.functions import concat_ws, col, coalesce, to_date, split\n",
    "\n"
   ]
  },
  {
   "cell_type": "code",
   "execution_count": 11,
   "id": "1427fb6d-deb7-4977-b73b-51f27c6bbaa0",
   "metadata": {},
   "outputs": [],
   "source": [
    "class DDBDelete:\n",
    "    def __init__(self, table: str, keyGen: Callable[[Row], Dict[str, str]]) -> None:\n",
    "        self.table = table\n",
    "        self.keyGen = keyGen\n",
    "        \n",
    "    def process(self, df: DynamicFrame) -> None:\n",
    "        df.toDF().foreachPartition(self.delete)\n",
    "        \n",
    "    def delete(self, rows: Iterator[Row]) -> None:\n",
    "        ddb_underlying_table = boto3.resource(\"dynamodb\").Table(self.table)\n",
    "        with ddb_underlying_table.batch_writer() as batch:\n",
    "            for row in rows:\n",
    "                batch.delete_item(Key=self.keyGen(row))"
   ]
  },
  {
   "cell_type": "code",
   "execution_count": 12,
   "id": "0eff3971-56c8-4f67-af22-4333cd4e0be8",
   "metadata": {},
   "outputs": [],
   "source": [
    "def init() -> Tuple[GlueContext, Job]:\n",
    "    params = []\n",
    "    if '--JOB_NAME' in sys.argv:\n",
    "        params.append('JOB_NAME')\n",
    "    args = getResolvedOptions(sys.argv, params)\n",
    "\n",
    "    context = GlueContext(SparkContext.getOrCreate())\n",
    "    job = Job(context)\n",
    "\n",
    "    if 'JOB_NAME' in args:\n",
    "        jobname = args['JOB_NAME']\n",
    "    else:\n",
    "        jobname = \"test\"\n",
    "    job.init(jobname, args)\n",
    "    return (context, job)\n",
    "\n",
    "context, job = init()"
   ]
  },
  {
   "cell_type": "code",
   "execution_count": 13,
   "id": "c2e787b1-666b-4cfe-a3d6-fc1e05567b68",
   "metadata": {},
   "outputs": [],
   "source": [
    "earnings_dynamodb_node: DynamicFrame = context.create_dynamic_frame.from_catalog(\n",
    "    database=\"earnings\",\n",
    "    table_name=\"earnings\",\n",
    "    transformation_ctx=\"earnings_dynamodb_node\",\n",
    ")"
   ]
  },
  {
   "cell_type": "code",
   "execution_count": 14,
   "id": "b121f4cc-35df-4651-aca3-7433d2626d32",
   "metadata": {},
   "outputs": [],
   "source": [
    "resolved_frame = earnings_dynamodb_node.resolveChoice(specs=[\n",
    "    (\"estimate\", \"cast:double\"),\n",
    "    (\"percent\", \"cast:double\"),\n",
    "    (\"actual\", \"cast:double\"),\n",
    "    (\"difference\", \"cast:double\"),\n",
    "    (\"high\", \"cast:double\")\n",
    "])"
   ]
  },
  {
   "cell_type": "code",
   "execution_count": 15,
   "id": "eb43793e-02e3-4cda-9a70-286086f5155b",
   "metadata": {},
   "outputs": [],
   "source": [
    "partitioned_dataframe: DynamicFrame = resolved_frame.toDF().repartition(1)"
   ]
  },
  {
   "cell_type": "code",
   "execution_count": 16,
   "id": "7ef559f9",
   "metadata": {},
   "outputs": [],
   "source": [
    "partitioned_dynamicframe: DynamicFrame = DynamicFrame.fromDF(partitioned_dataframe, context, \"partitioned_df\")"
   ]
  },
  {
   "cell_type": "code",
   "execution_count": 18,
   "id": "65644547-62b0-456f-a845-f6d244b55e74",
   "metadata": {},
   "outputs": [
    {
     "data": {
      "text/plain": [
       "<awsglue.dynamicframe.DynamicFrame at 0xffff6195a850>"
      ]
     },
     "execution_count": 18,
     "metadata": {},
     "output_type": "execute_result"
    }
   ],
   "source": [
    "context.write_dynamic_frame.from_options(\n",
    "    frame=partitioned_dynamicframe,\n",
    "    connection_type=\"s3\",\n",
    "    format=\"parquet\",\n",
    "    connection_options={\n",
    "        \"path\": \"s3://tonberry-earnings-staging\",\n",
    "        \"partitionKeys\": [\"symbol\"],\n",
    "        \"compression\": \"gzip\"\n",
    "    },\n",
    "    transformation_ctx=\"S3bucket_node3\",\n",
    ")"
   ]
  },
  {
   "cell_type": "code",
   "execution_count": 19,
   "id": "504579d4",
   "metadata": {},
   "outputs": [],
   "source": [
    "job.commit()\n"
   ]
  },
  {
   "cell_type": "code",
   "execution_count": null,
   "id": "e625e739-6be4-44fd-9279-6dffb68f49e5",
   "metadata": {},
   "outputs": [],
   "source": []
  }
 ],
 "metadata": {
  "kernelspec": {
   "display_name": "Python 3",
   "language": "python",
   "name": "python3"
  },
  "language_info": {
   "codemirror_mode": {
    "name": "ipython",
    "version": 3
   },
   "file_extension": ".py",
   "mimetype": "text/x-python",
   "name": "python",
   "nbconvert_exporter": "python",
   "pygments_lexer": "ipython3",
   "version": "3.7.15"
  },
  "vscode": {
   "interpreter": {
    "hash": "51f3f81542626ab5c763b7413119804b04c5c6d91b36fceac224de8d2dae24a0"
   }
  }
 },
 "nbformat": 4,
 "nbformat_minor": 5
}
