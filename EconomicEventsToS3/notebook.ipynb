{
 "cells": [
  {
   "cell_type": "code",
   "execution_count": 1,
   "id": "4ed4fc52-4f05-4002-a1ae-627e0a3ae2cb",
   "metadata": {},
   "outputs": [],
   "source": [
    "import sys\n",
    "from typing import Callable, Dict, Iterator, Tuple\n",
    "from awsglue.transforms import *\n",
    "from awsglue.utils import getResolvedOptions\n",
    "from pyspark.context import SparkContext\n",
    "from awsglue.context import GlueContext\n",
    "from awsglue.job import Job\n",
    "from awsglue.dynamicframe import DynamicFrame\n",
    "import boto3\n",
    "from pyspark.sql.types import Row\n",
    "from pyspark.sql.functions import concat_ws, col, coalesce, to_date, split, year\n"
   ]
  },
  {
   "cell_type": "code",
   "execution_count": 2,
   "id": "0eff3971-56c8-4f67-af22-4333cd4e0be8",
   "metadata": {},
   "outputs": [],
   "source": [
    "def init() -> Tuple[GlueContext, Job]:\n",
    "    params = []\n",
    "    if '--JOB_NAME' in sys.argv:\n",
    "        params.append('JOB_NAME')\n",
    "    args = getResolvedOptions(sys.argv, params)\n",
    "\n",
    "    context = GlueContext(SparkContext.getOrCreate())\n",
    "    job = Job(context)\n",
    "\n",
    "    if 'JOB_NAME' in args:\n",
    "        jobname = args['JOB_NAME']\n",
    "    else:\n",
    "        jobname = \"test\"\n",
    "    job.init(jobname, args)\n",
    "    return (context, job)\n",
    "\n",
    "context, job = init()"
   ]
  },
  {
   "cell_type": "code",
   "execution_count": 3,
   "id": "c2e787b1-666b-4cfe-a3d6-fc1e05567b68",
   "metadata": {},
   "outputs": [],
   "source": [
    "economic_events_dynamodb_node: DynamicFrame = context.create_dynamic_frame.from_catalog(\n",
    "    database=\"economic_events\",\n",
    "    table_name=\"economic_events\",\n",
    "    transformation_ctx=\"economic_events_dynamodb_node\",\n",
    ")"
   ]
  },
  {
   "cell_type": "code",
   "execution_count": 4,
   "id": "c59b7d81-bde1-40ee-9e04-e937c63e386a",
   "metadata": {},
   "outputs": [
    {
     "name": "stdout",
     "output_type": "stream",
     "text": [
      "root\n",
      "|-- comparison: string\n",
      "|-- previous: choice\n",
      "|    |-- double\n",
      "|    |-- long\n",
      "|-- estimate: choice\n",
      "|    |-- double\n",
      "|    |-- long\n",
      "|-- country: string\n",
      "|-- change: choice\n",
      "|    |-- double\n",
      "|    |-- long\n",
      "|-- change_percentage: choice\n",
      "|    |-- double\n",
      "|    |-- long\n",
      "|-- id: string\n",
      "|-- date: string\n",
      "|-- type: string\n",
      "|-- actual: choice\n",
      "|    |-- double\n",
      "|    |-- long\n",
      "|-- period: string\n",
      "\n"
     ]
    }
   ],
   "source": [
    "economic_events_dynamodb_node.printSchema()"
   ]
  },
  {
   "cell_type": "code",
   "execution_count": 6,
   "id": "2347b76f-215f-4347-95bf-6d64822cf661",
   "metadata": {},
   "outputs": [],
   "source": [
    "resolved_frame = economic_events_dynamodb_node.resolveChoice(specs=[\n",
    "    (\"previous\", \"cast:double\"),\n",
    "    (\"estimate\", \"cast:double\"),\n",
    "    (\"change\", \"cast:double\"),\n",
    "    (\"change_percentage\", \"cast:double\"),\n",
    "    (\"actual\", \"cast:double\")\n",
    "])"
   ]
  },
  {
   "cell_type": "code",
   "execution_count": 19,
   "id": "ce76102d-858c-4b58-9e32-a065600366a1",
   "metadata": {},
   "outputs": [],
   "source": [
    "df = resolved_frame.toDF().withColumn('date', to_date(col('date')))\n",
    "df = df.withColumn('year', year(col('date')))\n",
    "df = df.drop('id')\n",
    "transform_node = DynamicFrame.fromDF(df, context, 'transformed')"
   ]
  },
  {
   "cell_type": "code",
   "execution_count": 20,
   "id": "33407bac-780c-4a69-a7f8-c7f49186a0d8",
   "metadata": {},
   "outputs": [
    {
     "name": "stdout",
     "output_type": "stream",
     "text": [
      "root\n",
      "|-- comparison: string\n",
      "|-- previous: double\n",
      "|-- estimate: double\n",
      "|-- country: string\n",
      "|-- change: double\n",
      "|-- change_percentage: double\n",
      "|-- date: date\n",
      "|-- type: string\n",
      "|-- actual: double\n",
      "|-- period: string\n",
      "|-- year: int\n",
      "\n"
     ]
    }
   ],
   "source": [
    "transform_node.printSchema()"
   ]
  },
  {
   "cell_type": "code",
   "execution_count": 21,
   "id": "eb43793e-02e3-4cda-9a70-286086f5155b",
   "metadata": {},
   "outputs": [],
   "source": [
    "partitioned_dataframe: DynamicFrame = transform_node.toDF().repartition(1)"
   ]
  },
  {
   "cell_type": "code",
   "execution_count": 22,
   "id": "7ef559f9",
   "metadata": {},
   "outputs": [],
   "source": [
    "partitioned_dynamicframe: DynamicFrame = DynamicFrame.fromDF(partitioned_dataframe, context, \"partitioned_df\")"
   ]
  },
  {
   "cell_type": "code",
   "execution_count": 23,
   "id": "65644547-62b0-456f-a845-f6d244b55e74",
   "metadata": {},
   "outputs": [
    {
     "data": {
      "text/plain": [
       "<awsglue.dynamicframe.DynamicFrame at 0xffff7ed6cad0>"
      ]
     },
     "execution_count": 23,
     "metadata": {},
     "output_type": "execute_result"
    }
   ],
   "source": [
    "context.write_dynamic_frame.from_options(\n",
    "    frame=partitioned_dynamicframe,\n",
    "    connection_type=\"s3\",\n",
    "    format=\"parquet\",\n",
    "    connection_options={\n",
    "        \"path\": \"s3://tonberry-economic-events-staging\",\n",
    "        \"partitionKeys\": [\"year\"],\n",
    "        \"compression\": \"gzip\",\n",
    "    },\n",
    "    transformation_ctx=\"S3bucket_node3\",\n",
    ")"
   ]
  },
  {
   "cell_type": "code",
   "execution_count": 24,
   "id": "504579d4",
   "metadata": {},
   "outputs": [],
   "source": [
    "job.commit()\n"
   ]
  },
  {
   "cell_type": "code",
   "execution_count": null,
   "id": "e625e739-6be4-44fd-9279-6dffb68f49e5",
   "metadata": {},
   "outputs": [],
   "source": []
  }
 ],
 "metadata": {
  "kernelspec": {
   "display_name": "Python 3",
   "language": "python",
   "name": "python3"
  },
  "language_info": {
   "codemirror_mode": {
    "name": "ipython",
    "version": 3
   },
   "file_extension": ".py",
   "mimetype": "text/x-python",
   "name": "python",
   "nbconvert_exporter": "python",
   "pygments_lexer": "ipython3",
   "version": "3.10.1 (main, Jan 16 2022, 08:52:11) [Clang 13.0.0 (clang-1300.0.29.30)]"
  },
  "vscode": {
   "interpreter": {
    "hash": "51f3f81542626ab5c763b7413119804b04c5c6d91b36fceac224de8d2dae24a0"
   }
  }
 },
 "nbformat": 4,
 "nbformat_minor": 5
}
