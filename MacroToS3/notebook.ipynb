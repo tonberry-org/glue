{
 "cells": [
  {
   "cell_type": "code",
   "execution_count": 1,
   "id": "4ed4fc52-4f05-4002-a1ae-627e0a3ae2cb",
   "metadata": {},
   "outputs": [],
   "source": [
    "import sys\n",
    "from typing import Callable, Dict, Iterator, Tuple\n",
    "from awsglue.transforms import *\n",
    "from awsglue.utils import getResolvedOptions\n",
    "from pyspark.context import SparkContext\n",
    "from awsglue.context import GlueContext\n",
    "from awsglue.job import Job\n",
    "from awsglue.dynamicframe import DynamicFrame\n",
    "import boto3\n",
    "from pyspark.sql.types import Row\n",
    "from pyspark.sql.functions import concat_ws, col, coalesce, to_date, split\n"
   ]
  },
  {
   "cell_type": "code",
   "execution_count": 2,
   "id": "1427fb6d-deb7-4977-b73b-51f27c6bbaa0",
   "metadata": {},
   "outputs": [],
   "source": [
    "class DDBDelete:\n",
    "    def __init__(self, table: str, keyGen: Callable[[Row], Dict[str, str]]) -> None:\n",
    "        self.table = table\n",
    "        self.keyGen = keyGen\n",
    "        \n",
    "    def process(self, df: DynamicFrame) -> None:\n",
    "        df.toDF().foreachPartition(self.delete)\n",
    "        \n",
    "    def delete(self, rows: Iterator[Row]) -> None:\n",
    "        ddb_underlying_table = boto3.resource(\"dynamodb\").Table(self.table)\n",
    "        with ddb_underlying_table.batch_writer() as batch:\n",
    "            for row in rows:\n",
    "                batch.delete_item(Key=self.keyGen(row))"
   ]
  },
  {
   "cell_type": "code",
   "execution_count": 3,
   "id": "0eff3971-56c8-4f67-af22-4333cd4e0be8",
   "metadata": {},
   "outputs": [],
   "source": [
    "def init() -> Tuple[GlueContext, Job]:\n",
    "    params = []\n",
    "    if '--JOB_NAME' in sys.argv:\n",
    "        params.append('JOB_NAME')\n",
    "    args = getResolvedOptions(sys.argv, params)\n",
    "\n",
    "    context = GlueContext(SparkContext.getOrCreate())\n",
    "    job = Job(context)\n",
    "\n",
    "    if 'JOB_NAME' in args:\n",
    "        jobname = args['JOB_NAME']\n",
    "    else:\n",
    "        jobname = \"test\"\n",
    "    job.init(jobname, args)\n",
    "    return (context, job)\n",
    "\n",
    "context, job = init()"
   ]
  },
  {
   "cell_type": "code",
   "execution_count": 4,
   "id": "c2e787b1-666b-4cfe-a3d6-fc1e05567b68",
   "metadata": {},
   "outputs": [],
   "source": [
    "macro_indicators_dynamodb_node: DynamicFrame = context.create_dynamic_frame.from_catalog(\n",
    "    database=\"macro_indicators\",\n",
    "    table_name=\"macro_indicators\",\n",
    "    transformation_ctx=\"macro_indicators_dynamodb_node\",\n",
    ")"
   ]
  },
  {
   "cell_type": "code",
   "execution_count": 5,
   "id": "eb43793e-02e3-4cda-9a70-286086f5155b",
   "metadata": {},
   "outputs": [],
   "source": [
    "partitioned_dataframe: DynamicFrame = macro_indicators_dynamodb_node.toDF().repartition(1)"
   ]
  },
  {
   "cell_type": "code",
   "execution_count": 6,
   "id": "7ef559f9",
   "metadata": {},
   "outputs": [],
   "source": [
    "partitioned_dynamicframe: DynamicFrame = DynamicFrame.fromDF(partitioned_dataframe, context, \"partitioned_df\")"
   ]
  },
  {
   "cell_type": "code",
   "execution_count": 7,
   "id": "12058a01-632c-4e70-bde2-f32d5362b6c8",
   "metadata": {},
   "outputs": [],
   "source": [
    "concat_node = partitioned_dynamicframe.toDF().withColumn('tags', concat_ws(',', col('tags')))\n",
    "concat_node = concat_node.withColumn('symbols', concat_ws(',', col('symbols')))\n",
    "concat_node = concat_node.withColumn('neg_sentiment', coalesce(col('sentiment.neg.long'), col('sentiment.neg.double')))\n",
    "concat_node = concat_node.withColumn('pos_sentiment', coalesce(col('sentiment.pos.long'), col('sentiment.pos.double')))\n",
    "concat_node = concat_node.withColumn('new_sentiment', coalesce(col('sentiment.neu.long'), col('sentiment.neu.double')))\n",
    "concat_node = concat_node.withColumn('publish_timestamp',concat_node['date'])\n",
    "concat_node = concat_node.withColumn('date', to_date(concat_node['date']))\n",
    "concat_node = concat_node.withColumn('symbol', split(concat_node['symbol:link'], '#').getItem(0))"
   ]
  },
  {
   "cell_type": "code",
   "execution_count": 8,
   "id": "98285ebe-272c-4d85-b8e6-9bdc5fbdfe7c",
   "metadata": {},
   "outputs": [],
   "source": [
    "drop_node = DynamicFrame.fromDF(concat_node.drop('sentiment'), context, \"drop_node\")\n"
   ]
  },
  {
   "cell_type": "code",
   "execution_count": 9,
   "id": "65644547-62b0-456f-a845-f6d244b55e74",
   "metadata": {},
   "outputs": [
    {
     "data": {
      "text/plain": [
       "<awsglue.dynamicframe.DynamicFrame at 0xffff65afb610>"
      ]
     },
     "execution_count": 9,
     "metadata": {},
     "output_type": "execute_result"
    }
   ],
   "source": [
    "context.write_dynamic_frame.from_options(\n",
    "    frame=drop_node,\n",
    "    connection_type=\"s3\",\n",
    "    format=\"csv\",\n",
    "    connection_options={\n",
    "        \"path\": \"s3://tonberry-macro_indicators-staging\",\n",
    "        \"partitionKeys\": [\"symbol\",\"date\"],\n",
    "    },\n",
    "    transformation_ctx=\"S3bucket_node3\",\n",
    ")"
   ]
  },
  {
   "cell_type": "code",
   "execution_count": 15,
   "id": "e5036510",
   "metadata": {},
   "outputs": [],
   "source": [
    "\n",
    "DDBDelete(\"macro_indicators\", lambda x: {\"date\": x['date'], \"symbol:link\": x['symbol:link'] }).process(macro_indicators_dynamodb_node)"
   ]
  },
  {
   "cell_type": "code",
   "execution_count": 16,
   "id": "504579d4",
   "metadata": {},
   "outputs": [],
   "source": [
    "job.commit()\n"
   ]
  },
  {
   "cell_type": "code",
   "execution_count": null,
   "id": "e625e739-6be4-44fd-9279-6dffb68f49e5",
   "metadata": {},
   "outputs": [],
   "source": []
  }
 ],
 "metadata": {
  "kernelspec": {
   "display_name": "Python 3",
   "language": "python",
   "name": "python3"
  },
  "language_info": {
   "codemirror_mode": {
    "name": "ipython",
    "version": 3
   },
   "file_extension": ".py",
   "mimetype": "text/x-python",
   "name": "python",
   "nbconvert_exporter": "python",
   "pygments_lexer": "ipython3",
   "version": "3.7.15"
  }
 },
 "nbformat": 4,
 "nbformat_minor": 5
}
