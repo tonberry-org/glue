{
 "cells": [
  {
   "cell_type": "code",
   "execution_count": 1,
   "id": "4ed4fc52-4f05-4002-a1ae-627e0a3ae2cb",
   "metadata": {},
   "outputs": [
    {
     "name": "stdout",
     "output_type": "stream",
     "text": [
      "Starting Spark application\n"
     ]
    },
    {
     "data": {
      "text/html": [
       "<table>\n",
       "<tr><th>ID</th><th>YARN Application ID</th><th>Kind</th><th>State</th><th>Spark UI</th><th>Driver log</th><th>User</th><th>Current session?</th></tr><tr><td>0</td><td>None</td><td>pyspark</td><td>idle</td><td></td><td></td><td>None</td><td>✔</td></tr></table>"
      ],
      "text/plain": [
       "<IPython.core.display.HTML object>"
      ]
     },
     "metadata": {},
     "output_type": "display_data"
    },
    {
     "data": {
      "application/vnd.jupyter.widget-view+json": {
       "model_id": "",
       "version_major": 2,
       "version_minor": 0
      },
      "text/plain": [
       "FloatProgress(value=0.0, bar_style='info', description='Progress:', layout=Layout(height='25px', width='50%'),…"
      ]
     },
     "metadata": {},
     "output_type": "display_data"
    },
    {
     "name": "stdout",
     "output_type": "stream",
     "text": [
      "SparkSession available as 'spark'.\n"
     ]
    },
    {
     "data": {
      "application/vnd.jupyter.widget-view+json": {
       "model_id": "",
       "version_major": 2,
       "version_minor": 0
      },
      "text/plain": [
       "FloatProgress(value=0.0, bar_style='info', description='Progress:', layout=Layout(height='25px', width='50%'),…"
      ]
     },
     "metadata": {},
     "output_type": "display_data"
    }
   ],
   "source": [
    "import sys\n",
    "from typing import Callable, Dict, Iterator, Tuple\n",
    "from awsglue.transforms import *\n",
    "from awsglue.utils import getResolvedOptions\n",
    "from pyspark.context import SparkContext\n",
    "from awsglue.context import GlueContext\n",
    "from awsglue.job import Job\n",
    "from awsglue.dynamicframe import DynamicFrame\n",
    "import boto3\n",
    "from pyspark.sql.types import Row"
   ]
  },
  {
   "cell_type": "code",
   "execution_count": 9,
   "id": "39e495c5-16b6-4235-9834-8fb4e6339cba",
   "metadata": {},
   "outputs": [
    {
     "data": {
      "application/vnd.jupyter.widget-view+json": {
       "model_id": "",
       "version_major": 2,
       "version_minor": 0
      },
      "text/plain": [
       "FloatProgress(value=0.0, bar_style='info', description='Progress:', layout=Layout(height='25px', width='50%'),…"
      ]
     },
     "metadata": {},
     "output_type": "display_data"
    }
   ],
   "source": [
    "class DDBDelete:\n",
    "    def __init__(self, table: str, keyGen: Callable[[Row], Dict[str, str]]) -> None:\n",
    "        self.table = table\n",
    "        self.keyGen = keyGen\n",
    "        \n",
    "    def process(self, df: DynamicFrame) -> None:\n",
    "        df.toDF().foreachPartition(self.delete)\n",
    "        \n",
    "    def delete(self, rows: Iterator[Row]) -> None:\n",
    "        ddb_underlying_table = boto3.resource(\"dynamodb\").Table(self.table)\n",
    "        with ddb_underlying_table.batch_writer() as batch:\n",
    "            for row in rows:\n",
    "                batch.delete_item(Key=self.keyGen(row))"
   ]
  },
  {
   "cell_type": "code",
   "execution_count": 3,
   "id": "0eff3971-56c8-4f67-af22-4333cd4e0be8",
   "metadata": {},
   "outputs": [
    {
     "data": {
      "application/vnd.jupyter.widget-view+json": {
       "model_id": "",
       "version_major": 2,
       "version_minor": 0
      },
      "text/plain": [
       "FloatProgress(value=0.0, bar_style='info', description='Progress:', layout=Layout(height='25px', width='50%'),…"
      ]
     },
     "metadata": {},
     "output_type": "display_data"
    }
   ],
   "source": [
    "def init() -> Tuple[GlueContext, Job]:\n",
    "    params = []\n",
    "    if '--JOB_NAME' in sys.argv:\n",
    "        params.append('JOB_NAME')\n",
    "    args = getResolvedOptions(sys.argv, params)\n",
    "\n",
    "    context = GlueContext(SparkContext.getOrCreate())\n",
    "    job = Job(context)\n",
    "\n",
    "    if 'JOB_NAME' in args:\n",
    "        jobname = args['JOB_NAME']\n",
    "    else:\n",
    "        jobname = \"test\"\n",
    "    job.init(jobname, args)\n",
    "    return (context, job)\n",
    "\n",
    "context, job = init()"
   ]
  },
  {
   "cell_type": "code",
   "execution_count": 4,
   "id": "c2e787b1-666b-4cfe-a3d6-fc1e05567b68",
   "metadata": {},
   "outputs": [
    {
     "data": {
      "application/vnd.jupyter.widget-view+json": {
       "model_id": "",
       "version_major": 2,
       "version_minor": 0
      },
      "text/plain": [
       "FloatProgress(value=0.0, bar_style='info', description='Progress:', layout=Layout(height='25px', width='50%'),…"
      ]
     },
     "metadata": {},
     "output_type": "display_data"
    }
   ],
   "source": [
    "underlying_dynamodb_node: DynamicFrame = context.create_dynamic_frame.from_catalog(\n",
    "    database=\"quotesdb\",\n",
    "    table_name=\"option_underlying_quote_history\",\n",
    "    transformation_ctx=\"underlying_dynamodb_node\",\n",
    ")\n",
    "\n",
    "options_dynamodb_node: DynamicFrame = context.create_dynamic_frame.from_catalog(\n",
    "    database=\"quotesdb\",\n",
    "    table_name=\"option_quote_history\",\n",
    "    transformation_ctx=\"options_dynamodb_node\",\n",
    ")"
   ]
  },
  {
   "cell_type": "code",
   "execution_count": 5,
   "id": "0aee4895-994f-4e0e-9e93-00fa59a71fc4",
   "metadata": {},
   "outputs": [
    {
     "data": {
      "application/vnd.jupyter.widget-view+json": {
       "model_id": "",
       "version_major": 2,
       "version_minor": 0
      },
      "text/plain": [
       "FloatProgress(value=0.0, bar_style='info', description='Progress:', layout=Layout(height='25px', width='50%'),…"
      ]
     },
     "metadata": {},
     "output_type": "display_data"
    }
   ],
   "source": [
    "renamed_keys_for_join_node: DynamicFrame = ApplyMapping.apply(\n",
    "    frame=underlying_dynamodb_node,\n",
    "    mappings=[\n",
    "        (\"date\", \"date\", \"underlying_date\", \"date\"),\n",
    "        (\"totalvolume\", \"long\", \"underlying_totalvolume\", \"long\"),\n",
    "        (\"symbol\", \"string\", \"underlying_symbol\", \"string\"),\n",
    "        (\"openprice\", \"double\", \"underlying_openprice\", \"double\"),\n",
    "        (\"description\", \"string\", \"underlying_description\", \"string\"),\n",
    "        (\"delayed\", \"boolean\", \"underlying_delayed\", \"boolean\"),\n",
    "        (\"lowprice\", \"double\", \"underlying_low\", \"double\"),\n",
    "        (\"highprice\", \"double\", \"underlying_high\", \"double\"),\n",
    "        (\"id\", \"string\", \"underlying_id\", \"string\"),\n",
    "        (\"close\", \"double\", \"underlying_close\", \"double\"),\n",
    "        (\"fiftytwoweekhigh\", \"double\", \"underlying_fiftytwoweekhigh\", \"double\"),\n",
    "        (\"asksize\", \"long\", \"underlying_asksize\", \"long\"),\n",
    "        (\"markpercentchange\", \"double\", \"underlying_markpercentchange\", \"double\"),\n",
    "        (\"timestamp\", \"string\", \"underlying_timestamp\", \"string\"),\n",
    "        (\"percentchange\", \"double\", \"underlying_percentchange\", \"double\"),\n",
    "        (\"last\", \"double\", \"underlying_last\", \"double\"),\n",
    "        (\"bidsize\", \"long\", \"underlying_bidsize\", \"long\"),\n",
    "        (\"change\", \"double\", \"underlying_change\", \"double\"),\n",
    "        (\"fiftytwoweeklow\", \"double\", \"underlying_fiftytwoweeklow\", \"double\"),\n",
    "        (\"tradetime\", \"long\", \"underlying_tradetime\", \"long\"),\n",
    "        (\"markchange\", \"double\", \"underlying_markchange\", \"double\"),\n",
    "        (\"quotetime\", \"long\", \"underlying_quotetime\", \"long\"),\n",
    "        (\"ask\", \"double\", \"underlying_ask\", \"double\"),\n",
    "        (\"exchangename\", \"string\", \"underlying_exchangename\", \"string\"),\n",
    "        (\"bid\", \"double\", \"underlying_bid\", \"double\"),\n",
    "        (\"mark\", \"double\", \"underlying_mark\", \"double\"),\n",
    "    ],\n",
    "    transformation_ctx=\"renamed_keys_for_join_node\",\n",
    ")\n",
    "\n",
    "join_node: DynamicFrame = Join.apply(\n",
    "    frame1=options_dynamodb_node,\n",
    "    frame2=renamed_keys_for_join_node,\n",
    "    keys1=[\"underlying_id\"],\n",
    "    keys2=[\"underlying_id\"],\n",
    "    transformation_ctx=\"join_node\",\n",
    ")\n",
    "\n",
    "join_node_resolved: DynamicFrame = join_node.resolveChoice(specs=[\n",
    "    (\"strikePrice\", \"cast:long\"), \n",
    "    (\"vega\", \"cast:double\"),\n",
    "    (\"lowPrice\", \"cast:double\"),\n",
    "    (\"theoreticalOptionValue\", \"cast:double\"),\n",
    "    (\"percentChange\", \"cast:double\"),\n",
    "    (\"volatility\", \"cast:double\"),\n",
    "    (\"markPercentChange\", \"cast:double\"),\n",
    "    (\"markChange\", \"cast:double\"),\n",
    "    (\"netChange\", \"cast:double\"),\n",
    "    (\"closePrice\", \"cast:double\"),\n",
    "    (\"theta\", \"cast:double\"),\n",
    "    (\"highPrice\", \"cast:double\"),\n",
    "    (\"delta\", \"cast:double\"),\n",
    "    (\"rho\", \"cast:double\"),\n",
    "    (\"timeValue\", \"cast:double\"),\n",
    "    (\"gamma\", \"cast:double\"),\n",
    "    (\"ask\", \"cast:double\"),\n",
    "    (\"bid\", \"cast:double\"),\n",
    "    ('underlying_markchange', \"cast:double\"),\n",
    "    ('underlying_change', \"cast:double\"),\n",
    "    ('underlying_ask', \"cast:double\"),\n",
    "    ('underlying_bid', \"cast:double\"),\n",
    "    ('underlying_markpercentchange', \"cast:double\"),\n",
    "    ('underlying_percentchange', \"cast:double\"),\n",
    "    ('underlying_markchange', \"cast:double\"),\n",
    "    ('underlying_fiftytwoweekhigh', \"cast:double\"),\n",
    "    ('underlying_fiftytwoweeklow', \"cast:double\"),\n",
    "    ('underlying_totalvolume', \"cast:long\"),\n",
    "    ('underlying_openprice', \"cast:double\"),\n",
    "    ('underlying_low', \"cast:double\"),\n",
    "    ('underlying_high', \"cast:double\"),\n",
    "    ('underlying_close', \"cast:double\"),\n",
    "    ('underlying_asksize', \"cast:long\"),\n",
    "    ('underlying_last', \"cast:double\"),\n",
    "    ('underlying_bidsize', \"cast:long\"),\n",
    "    ('underlying_mark', \"cast:double\")\n",
    "])"
   ]
  },
  {
   "cell_type": "code",
   "execution_count": 6,
   "id": "7ef559f9",
   "metadata": {
    "vscode": {
     "languageId": "plaintext"
    }
   },
   "outputs": [
    {
     "data": {
      "application/vnd.jupyter.widget-view+json": {
       "model_id": "",
       "version_major": 2,
       "version_minor": 0
      },
      "text/plain": [
       "FloatProgress(value=0.0, bar_style='info', description='Progress:', layout=Layout(height='25px', width='50%'),…"
      ]
     },
     "metadata": {},
     "output_type": "display_data"
    },
    {
     "name": "stdout",
     "output_type": "stream",
     "text": [
      "<awsglue.dynamicframe.DynamicFrame object at 0xffff7856ef50>"
     ]
    }
   ],
   "source": [
    "partitioned_dataframe: DynamicFrame = join_node_resolved.toDF().repartition(1)\n",
    "partitioned_dynamicframe: DynamicFrame = DynamicFrame.fromDF(partitioned_dataframe, context, \"partitioned_df\")\n",
    "\n",
    "\n",
    "context.write_dynamic_frame.from_options(\n",
    "    frame=partitioned_dynamicframe,\n",
    "    connection_type=\"s3\",\n",
    "    format=\"csv\",\n",
    "    connection_options={\n",
    "        \"path\": \"s3://tonberry-option-quotes-history-staging\",\n",
    "        \"partitionKeys\": [\"underlying_symbol\", \"underlying_date\"],\n",
    "    },\n",
    "    transformation_ctx=\"S3bucket_node3\",\n",
    ")"
   ]
  },
  {
   "cell_type": "code",
   "execution_count": 10,
   "id": "e5036510",
   "metadata": {
    "vscode": {
     "languageId": "plaintext"
    }
   },
   "outputs": [
    {
     "data": {
      "application/vnd.jupyter.widget-view+json": {
       "model_id": "",
       "version_major": 2,
       "version_minor": 0
      },
      "text/plain": [
       "FloatProgress(value=0.0, bar_style='info', description='Progress:', layout=Layout(height='25px', width='50%'),…"
      ]
     },
     "metadata": {},
     "output_type": "display_data"
    }
   ],
   "source": [
    "DDBDelete(\"option_underlying_quote_history\", lambda x: {\"id\": x.id, \"timestamp\": x.timestamp}).process(underlying_dynamodb_node)\n",
    "DDBDelete(\"option_quote_history\", lambda x: {\"symbol\": x.symbol, \"timestamp\": x.timestamp }).process(options_dynamodb_node)"
   ]
  },
  {
   "cell_type": "code",
   "execution_count": 11,
   "id": "504579d4",
   "metadata": {
    "vscode": {
     "languageId": "plaintext"
    }
   },
   "outputs": [
    {
     "data": {
      "application/vnd.jupyter.widget-view+json": {
       "model_id": "",
       "version_major": 2,
       "version_minor": 0
      },
      "text/plain": [
       "FloatProgress(value=0.0, bar_style='info', description='Progress:', layout=Layout(height='25px', width='50%'),…"
      ]
     },
     "metadata": {},
     "output_type": "display_data"
    }
   ],
   "source": [
    "job.commit()\n"
   ]
  },
  {
   "cell_type": "code",
   "execution_count": null,
   "id": "a0d2af30-f5de-449f-8f19-274a9e7ef0d6",
   "metadata": {},
   "outputs": [],
   "source": []
  }
 ],
 "metadata": {
  "kernelspec": {
   "display_name": "PySpark",
   "language": "python",
   "name": "pysparkkernel"
  },
  "language_info": {
   "codemirror_mode": {
    "name": "python",
    "version": 3
   },
   "file_extension": ".py",
   "mimetype": "text/x-python",
   "name": "pyspark",
   "pygments_lexer": "python3"
  }
 },
 "nbformat": 4,
 "nbformat_minor": 5
}
